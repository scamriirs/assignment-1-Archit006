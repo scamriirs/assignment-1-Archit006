{
  "metadata": {
    "kernelspec": {
      "name": "xpython",
      "display_name": "Python 3.13 (XPython)",
      "language": "python"
    },
    "language_info": {
      "file_extension": ".py",
      "mimetype": "text/x-python",
      "name": "python",
      "version": "3.13.1"
    }
  },
  "nbformat_minor": 5,
  "nbformat": 4,
  "cells": [
    {
      "id": "6d6e0052-c15d-4da2-aedf-29d5b4941815",
      "cell_type": "code",
      "source": "#wap to check first element is greater than 25\nnumbers = [10, 20, 30, 40]\n\nif numbers[0] > 25:\n    print(\"First element is large\")\nelse:\n    print(\"First element is small\")",
      "metadata": {
        "trusted": true
      },
      "outputs": [
        {
          "name": "stdout",
          "output_type": "stream",
          "text": "First element is small\n"
        }
      ],
      "execution_count": 1
    },
    {
      "id": "1a3865f0-9e70-4a1e-b3cc-90c78c5d42fa",
      "cell_type": "code",
      "source": "#wap to create new list of pass or fail\nscores = [45, 67, 89, 92, 54, 31]\n\n\nresults = []\n\n\nfor score in scores:\n    if score >= 50:\n        results.append(\"Pass\")\n    else:\n        results.append(\"Fail\")\n\nprint(results)",
      "metadata": {
        "trusted": true
      },
      "outputs": [
        {
          "name": "stdout",
          "output_type": "stream",
          "text": "['Fail', 'Pass', 'Pass', 'Pass', 'Pass', 'Fail']\n"
        }
      ],
      "execution_count": 2
    },
    {
      "id": "a320f99c-bd98-4715-9eab-fc0a52fff946",
      "cell_type": "code",
      "source": "#Check for item in a list or  not\n# Predefined list of fruits\nfruits = ['apple', 'banana', 'mango', 'grape']\n\nfavorite = input(\"Enter your favorite fruit: \").lower() \nif favorite in fruits:\n    print(f\"{favorite} is in the list!\")\nelse:\n    print(f\"{favorite} is NOT in the list.\")",
      "metadata": {
        "trusted": true
      },
      "outputs": [
        {
          "output_type": "stream",
          "name": "stdin",
          "text": "Enter your favorite fruit:  apple\n"
        },
        {
          "name": "stdout",
          "output_type": "stream",
          "text": "apple is in the list!\n"
        }
      ],
      "execution_count": 3
    },
    {
      "id": "680a1966-773d-40e2-9516-153110e1388a",
      "cell_type": "code",
      "source": "#Wap to calculate sum of positive list elements\nvalues = [1, -2, 3, -4, 5, 6]\n\n\npositive_sum = 0\n\n\nfor num in values:\n    if num > 0:       \n        positive_sum += num\n\nprint(\"Sum of positive numbers:\",positive_sum)",
      "metadata": {
        "trusted": true
      },
      "outputs": [
        {
          "name": "stdout",
          "output_type": "stream",
          "text": "Sum of positive numbers: 15\n"
        }
      ],
      "execution_count": 7
    },
    {
      "id": "66187041-2e6d-45af-bf1d-6a777f9eef0c",
      "cell_type": "code",
      "source": "#Find maximumnwith condition\ndata = [120, 330, 40, 550, 60]\n\n\nvalid_numbers = [num for num in data if num < 500]\n\nif valid_numbers:   \n    print(max(valid_numbers))\nelse:\n    print(\"No valid number found\")",
      "metadata": {
        "trusted": true
      },
      "outputs": [
        {
          "name": "stdout",
          "output_type": "stream",
          "text": "330\n"
        }
      ],
      "execution_count": 8
    },
    {
      "id": "2d011031-826e-4af9-aa86-a9faa928af06",
      "cell_type": "code",
      "source": "#wap to separtae list into two new lists one for integer and other for string)\nmixed = [12, 'hello', 33, 'world', 7.5, 100]\n\nintegers = []\nstrings = []\n\nfor item in mixed:\n    if isinstance(item, int):\n        integers.append(item)\n    elif isinstance(item, str):\n        strings.append(item)\n\nprint(\"Integers:\", integers)\nprint(\"Strings:\", strings)",
      "metadata": {
        "trusted": true
      },
      "outputs": [
        {
          "name": "stdout",
          "output_type": "stream",
          "text": "Integers: [12, 33, 100]\nStrings: ['hello', 'world']\n"
        }
      ],
      "execution_count": 9
    },
    {
      "id": "1e166f1b-3577-4b46-b4d7-182bfbe79732",
      "cell_type": "code",
      "source": "#Check if the index is valid for the list. If it is, check if the element at that index is even. Print \"Valid index, even number\", \"Valid index, odd number\", or \"Invalid index\" based on the checks.\nmy_list = [10, 20, 30, 40, 50]\nindex = int(input(\"Enter an index: \"))\n\n\nif 0 <= index < len(my_list):\n    element = my_list[index]\n    if element % 2 == 0:\n        print(\"Valid index, even number\")\n    else:\n        print(\"Valid index, odd number\")\nelse:\n    print(\"Invalid index\")",
      "metadata": {
        "trusted": true
      },
      "outputs": [
        {
          "output_type": "stream",
          "name": "stdin",
          "text": "Enter an index:  40\n"
        },
        {
          "name": "stdout",
          "output_type": "stream",
          "text": "Invalid index\n"
        }
      ],
      "execution_count": 10
    },
    {
      "id": "ea43bd49-339b-45a4-8374-54e647921691",
      "cell_type": "code",
      "source": "temperatures = [25, 30, 105, 28, 16, -5, 99]\n\nvalid_temperatures = [temp for temp in temperatures if 0 <= temp <= 100]\n\nprint(\"Valid Temperatures:\", valid_temperatures)\n",
      "metadata": {
        "trusted": true
      },
      "outputs": [
        {
          "name": "stdout",
          "output_type": "stream",
          "text": "Valid Temperatures: [25, 30, 28, 16, 99]\n"
        }
      ],
      "execution_count": 2
    },
    {
      "id": "ce7799ca-ce3c-4675-86a0-196c21966bee",
      "cell_type": "code",
      "source": "\nnames = ['Alice', 'Bob', 'Charlie', 'Diana']\n\nsearch_name = input(\"Enter a name to search: \")\n\nif search_name in names:\n    index = names.index(search_name)\n    print(f\"Name found at index {index}\")\nelse:\n    print(\"Name not found\")",
      "metadata": {
        "trusted": true
      },
      "outputs": [
        {
          "output_type": "stream",
          "name": "stdin",
          "text": "Enter a name to search:  Bob\n"
        },
        {
          "name": "stdout",
          "output_type": "stream",
          "text": "Name found at index 1\n"
        }
      ],
      "execution_count": 1
    },
    {
      "id": "ad65d897-1e95-4a21-b8a0-3f8b641a53a4",
      "cell_type": "code",
      "source": "#Wap to find and print all numbers in list both greater than 10 and divisible by 3\nnumbers = [15, 7, 22, 9, 36, 12, 18]\n\nresult = []\n\nfor num in numbers:\n    if num > 10 and num % 3 == 0:\n        result.append(num)\n\nprint(\"Numbers greater than 10 and divisible by 3:\", result)",
      "metadata": {
        "trusted": true
      },
      "outputs": [
        {
          "name": "stdout",
          "output_type": "stream",
          "text": "Numbers greater than 10 and divisible by 3: [15, 36, 12, 18]\n"
        }
      ],
      "execution_count": 3
    },
    {
      "id": "685f8c45-3130-4ed4-b1b2-84b5ff2c6cd3",
      "cell_type": "code",
      "source": "",
      "metadata": {
        "trusted": true
      },
      "outputs": [],
      "execution_count": null
    }
  ]
}